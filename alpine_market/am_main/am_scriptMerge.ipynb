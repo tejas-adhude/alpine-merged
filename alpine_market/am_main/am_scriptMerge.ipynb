{
 "cells": [
  {
   "cell_type": "code",
   "execution_count": 2,
   "metadata": {},
   "outputs": [],
   "source": [
    "import pandas as pd\n",
    "import requests\n",
    "\n",
    "from alpine import as_adbso,as_ms,ba_mk,ba_mn\n",
    "import alpine_market.am_auth.am_cred as cred\n",
    "\n",
    "mso=as_ms(host=cred.sql_host,user=cred.sql_user,password=cred.sql_pass)\n",
    "mso.open_sql_connection()\n",
    "\n",
    "adboo=as_adbso(mso=mso)\n",
    "\n",
    "mno=ba_mn(adboo)\n",
    "mno.temp_neo_auth()\n",
    "\n",
    "\n",
    "kite=ba_mk(adbsoo=adboo)\n",
    "kite.authenticate_user()"
   ]
  },
  {
   "cell_type": "markdown",
   "metadata": {},
   "source": [
    "## NEO TRANSFORM"
   ]
  },
  {
   "cell_type": "code",
   "execution_count": 3,
   "metadata": {},
   "outputs": [
    {
     "data": {
      "text/plain": [
       "{'filesPaths': ['https://lapi.kotaksecurities.com/wso2-scripmaster/v1/prod/2024-06-22/transformed/bse_cm.csv',\n",
       "  'https://lapi.kotaksecurities.com/wso2-scripmaster/v1/prod/2024-06-22/transformed/cde_fo.csv',\n",
       "  'https://lapi.kotaksecurities.com/wso2-scripmaster/v1/prod/2024-06-22/transformed/mcx_fo.csv',\n",
       "  'https://lapi.kotaksecurities.com/wso2-scripmaster/v1/prod/2024-06-22/transformed/nse_cm.csv',\n",
       "  'https://lapi.kotaksecurities.com/wso2-scripmaster/v1/prod/2024-06-22/transformed/nse_fo.csv',\n",
       "  'https://lapi.kotaksecurities.com/wso2-scripmaster/v1/prod/2024-06-22/transformed/bse_fo.csv'],\n",
       " 'baseFolder': 'https://lapi.kotaksecurities.com/wso2-scripmaster/v1/prod'}"
      ]
     },
     "execution_count": 3,
     "metadata": {},
     "output_type": "execute_result"
    }
   ],
   "source": [
    "re=mno.neo.scrip_master()\n",
    "\n",
    "# re=mno.neo.search_scrip(exchange_segment=\"nse\",symbol=\"AARTIIND\")\n",
    "\n",
    "re"
   ]
  },
  {
   "cell_type": "code",
   "execution_count": null,
   "metadata": {},
   "outputs": [],
   "source": [
    "def download_file(url):\n",
    "    filename = url.split(\"/\")[-1]\n",
    "    response = requests.get(url)\n",
    "    with open(f\"../am_files/{filename}\", 'wb') as file:\n",
    "        file.write(response.content)\n",
    "print(\"downloading the files from url.......\")\n",
    "for url in re[\"filesPaths\"]:\n",
    "    download_file(url)\n",
    "print(\"files downloaded successfully\")"
   ]
  },
  {
   "cell_type": "code",
   "execution_count": 4,
   "metadata": {},
   "outputs": [],
   "source": [
    "neo_nse_cm=pd.read_csv(\"../am_files/nse_cm.csv\")\n",
    "neo_nse_fo=pd.read_csv(\"../am_files/nse_fo.csv\")"
   ]
  },
  {
   "cell_type": "code",
   "execution_count": 5,
   "metadata": {},
   "outputs": [],
   "source": [
    "neo_cm_df=neo_nse_cm[[\"pSymbol\",\"pTrdSymbol\",'pSymbolName',\"pDesc\",\"pExchange\",\"pExchSeg\",\"pGroup\"]]\n",
    "# neo_fo_df=nse_fo[[\"pSymbol\",\"pTrdSymbol\",'pSymbolName',\"pDesc\",\"pExchange\",\"pExchSeg\",\"pGroup\"]]"
   ]
  },
  {
   "cell_type": "code",
   "execution_count": 6,
   "metadata": {},
   "outputs": [],
   "source": [
    "\n",
    "neo_cm_eq_df=neo_cm_df[neo_cm_df.notna().all(axis=1)]\n",
    "neo_cm_in_df=neo_cm_df[neo_cm_df.isna().any(axis=1)]"
   ]
  },
  {
   "cell_type": "code",
   "execution_count": 7,
   "metadata": {},
   "outputs": [
    {
     "data": {
      "text/plain": [
       "(8828, 8828)"
      ]
     },
     "execution_count": 7,
     "metadata": {},
     "output_type": "execute_result"
    }
   ],
   "source": [
    "neo_cm_df.shape[0],neo_cm_eq_df.shape[0]+neo_cm_in_df.shape[0]"
   ]
  },
  {
   "cell_type": "code",
   "execution_count": 8,
   "metadata": {},
   "outputs": [
    {
     "data": {
      "text/plain": [
       "(pSymbol        0\n",
       " pTrdSymbol     0\n",
       " pSymbolName    0\n",
       " pDesc          0\n",
       " pExchange      0\n",
       " pExchSeg       0\n",
       " pGroup         0\n",
       " dtype: int64,\n",
       " pSymbol         0\n",
       " pTrdSymbol      0\n",
       " pSymbolName     0\n",
       " pDesc           0\n",
       " pExchange       4\n",
       " pExchSeg        0\n",
       " pGroup         24\n",
       " dtype: int64)"
      ]
     },
     "execution_count": 8,
     "metadata": {},
     "output_type": "execute_result"
    }
   ],
   "source": [
    "neo_cm_eq_df.isnull().sum(),neo_cm_in_df.isnull().sum()"
   ]
  },
  {
   "cell_type": "code",
   "execution_count": 9,
   "metadata": {},
   "outputs": [],
   "source": [
    "neo_cm_eq_df=neo_cm_eq_df[[\"pSymbol\",\"pTrdSymbol\",'pSymbolName',\"pDesc\",\"pExchange\",\"pExchSeg\"]]\n",
    "neo_cm_in_df=neo_cm_in_df[[\"pSymbol\",\"pTrdSymbol\",'pSymbolName',\"pDesc\",\"pExchange\",\"pExchSeg\"]]"
   ]
  },
  {
   "cell_type": "code",
   "execution_count": 10,
   "metadata": {},
   "outputs": [],
   "source": [
    "neo_cm_eq_df[\"pExchSeg\"]=neo_cm_eq_df[\"pExchSeg\"].replace({\"nse_cm\":\"EQ\"})\n",
    "neo_cm_in_df[\"pExchSeg\"]=neo_cm_in_df[\"pExchSeg\"].replace({\"nse_cm\":\"IN\"})\n",
    "# neo_cm_df[\"pExchSeg\"]=neo_cm_df[\"pExchSeg\"].replace({\"nse_cm\":\"EQ\"})"
   ]
  },
  {
   "cell_type": "code",
   "execution_count": 11,
   "metadata": {},
   "outputs": [],
   "source": [
    "neo_cm_eq_df.rename(columns={\"pTrdSymbol\":\"PTRDSYMBOL\",\"pSymbol\":\"NEOTOKENID\",\"pSymbolName\":\"SYMBOL\",\"pDesc\":\"SYMBOLDESC\",\"pExchange\":\"EXCHANGE\",\"pExchSeg\":\"SEGMENT\"},inplace=True)\n",
    "neo_cm_in_df.rename(columns={\"pTrdSymbol\":\"PTRDSYMBOL\",\"pSymbol\":\"NEOTOKENID\",\"pSymbolName\":\"SYMBOL\",\"pDesc\":\"SYMBOLDESC\",\"pExchange\":\"EXCHANGE\",\"pExchSeg\":\"SEGMENT\"},inplace=True)\n"
   ]
  },
  {
   "cell_type": "code",
   "execution_count": 12,
   "metadata": {},
   "outputs": [
    {
     "name": "stdout",
     "output_type": "stream",
     "text": [
      "<class 'pandas.core.frame.DataFrame'>\n",
      "Index: 8804 entries, 0 to 8827\n",
      "Data columns (total 6 columns):\n",
      " #   Column      Non-Null Count  Dtype \n",
      "---  ------      --------------  ----- \n",
      " 0   NEOTOKENID  8804 non-null   int64 \n",
      " 1   PTRDSYMBOL  8804 non-null   object\n",
      " 2   SYMBOL      8804 non-null   object\n",
      " 3   SYMBOLDESC  8804 non-null   object\n",
      " 4   EXCHANGE    8804 non-null   object\n",
      " 5   SEGMENT     8804 non-null   object\n",
      "dtypes: int64(1), object(5)\n",
      "memory usage: 481.5+ KB\n",
      "<class 'pandas.core.frame.DataFrame'>\n",
      "Index: 24 entries, 897 to 7583\n",
      "Data columns (total 6 columns):\n",
      " #   Column      Non-Null Count  Dtype \n",
      "---  ------      --------------  ----- \n",
      " 0   NEOTOKENID  24 non-null     int64 \n",
      " 1   PTRDSYMBOL  24 non-null     object\n",
      " 2   SYMBOL      24 non-null     object\n",
      " 3   SYMBOLDESC  24 non-null     object\n",
      " 4   EXCHANGE    20 non-null     object\n",
      " 5   SEGMENT     24 non-null     object\n",
      "dtypes: int64(1), object(5)\n",
      "memory usage: 1.3+ KB\n"
     ]
    },
    {
     "data": {
      "text/plain": [
       "(None, None)"
      ]
     },
     "execution_count": 12,
     "metadata": {},
     "output_type": "execute_result"
    }
   ],
   "source": [
    "neo_cm_eq_df.info(),neo_cm_in_df.info()"
   ]
  },
  {
   "cell_type": "code",
   "execution_count": 13,
   "metadata": {},
   "outputs": [],
   "source": [
    "neo_cm_eq_df=neo_cm_eq_df.convert_dtypes()\n",
    "neo_cm_in_df=neo_cm_in_df.convert_dtypes()"
   ]
  },
  {
   "cell_type": "code",
   "execution_count": 14,
   "metadata": {},
   "outputs": [
    {
     "name": "stdout",
     "output_type": "stream",
     "text": [
      "<class 'pandas.core.frame.DataFrame'>\n",
      "Index: 8804 entries, 0 to 8827\n",
      "Data columns (total 6 columns):\n",
      " #   Column      Non-Null Count  Dtype \n",
      "---  ------      --------------  ----- \n",
      " 0   NEOTOKENID  8804 non-null   Int64 \n",
      " 1   PTRDSYMBOL  8804 non-null   string\n",
      " 2   SYMBOL      8804 non-null   string\n",
      " 3   SYMBOLDESC  8804 non-null   string\n",
      " 4   EXCHANGE    8804 non-null   string\n",
      " 5   SEGMENT     8804 non-null   string\n",
      "dtypes: Int64(1), string(5)\n",
      "memory usage: 490.1 KB\n",
      "<class 'pandas.core.frame.DataFrame'>\n",
      "Index: 24 entries, 897 to 7583\n",
      "Data columns (total 6 columns):\n",
      " #   Column      Non-Null Count  Dtype \n",
      "---  ------      --------------  ----- \n",
      " 0   NEOTOKENID  24 non-null     Int64 \n",
      " 1   PTRDSYMBOL  24 non-null     string\n",
      " 2   SYMBOL      24 non-null     string\n",
      " 3   SYMBOLDESC  24 non-null     string\n",
      " 4   EXCHANGE    20 non-null     string\n",
      " 5   SEGMENT     24 non-null     string\n",
      "dtypes: Int64(1), string(5)\n",
      "memory usage: 1.3 KB\n"
     ]
    },
    {
     "data": {
      "text/plain": [
       "(None, None)"
      ]
     },
     "execution_count": 14,
     "metadata": {},
     "output_type": "execute_result"
    }
   ],
   "source": [
    "neo_cm_eq_df.info(),neo_cm_in_df.info()"
   ]
  },
  {
   "cell_type": "code",
   "execution_count": 15,
   "metadata": {},
   "outputs": [
    {
     "data": {
      "text/plain": [
       "(NEOTOKENID    0\n",
       " PTRDSYMBOL    0\n",
       " SYMBOL        0\n",
       " SYMBOLDESC    0\n",
       " EXCHANGE      0\n",
       " SEGMENT       0\n",
       " dtype: int64,\n",
       " NEOTOKENID    0\n",
       " PTRDSYMBOL    0\n",
       " SYMBOL        0\n",
       " SYMBOLDESC    0\n",
       " EXCHANGE      4\n",
       " SEGMENT       0\n",
       " dtype: int64)"
      ]
     },
     "execution_count": 15,
     "metadata": {},
     "output_type": "execute_result"
    }
   ],
   "source": [
    "neo_cm_eq_df.isnull().sum(),neo_cm_in_df.isnull().sum()"
   ]
  },
  {
   "cell_type": "code",
   "execution_count": 16,
   "metadata": {},
   "outputs": [],
   "source": [
    "neo_cm_eq_df.fillna({\"EXCHANGE\":\"NSE\"},inplace=True)\n",
    "neo_cm_in_df.fillna({\"EXCHANGE\":\"NSE\"},inplace=True)"
   ]
  },
  {
   "cell_type": "code",
   "execution_count": 17,
   "metadata": {},
   "outputs": [
    {
     "data": {
      "text/plain": [
       "(NEOTOKENID    0\n",
       " PTRDSYMBOL    0\n",
       " SYMBOL        0\n",
       " SYMBOLDESC    0\n",
       " EXCHANGE      0\n",
       " SEGMENT       0\n",
       " dtype: int64,\n",
       " NEOTOKENID    0\n",
       " PTRDSYMBOL    0\n",
       " SYMBOL        0\n",
       " SYMBOLDESC    0\n",
       " EXCHANGE      0\n",
       " SEGMENT       0\n",
       " dtype: int64)"
      ]
     },
     "execution_count": 17,
     "metadata": {},
     "output_type": "execute_result"
    }
   ],
   "source": [
    "neo_cm_eq_df.isnull().sum(),neo_cm_in_df.isnull().sum()"
   ]
  },
  {
   "cell_type": "code",
   "execution_count": 18,
   "metadata": {},
   "outputs": [],
   "source": [
    "neo_cm_eq_df.sort_values(by=\"SYMBOL\",inplace=True)\n",
    "neo_cm_in_df.sort_values(by=\"SYMBOL\",inplace=True)\n",
    "\n",
    "neo_cm_eq_df.to_csv(\"../am_files/neo_cm_eq.csv\",index=False)\n",
    "neo_cm_in_df.to_csv(\"../am_files/neo_cm_in.csv\",index=False)"
   ]
  },
  {
   "cell_type": "markdown",
   "metadata": {},
   "source": [
    "## KITE TRANSFORM"
   ]
  },
  {
   "cell_type": "code",
   "execution_count": 19,
   "metadata": {},
   "outputs": [],
   "source": [
    "instru=kite.kiteApp.instruments()\n",
    "kite_ls=[{\"tradingsymbol\":ele[\"tradingsymbol\"],\"instrument_token\":ele[\"instrument_token\"],\"instrument_type\":ele[\"instrument_type\"],\"segment\":ele[\"segment\"],\"exchange\":ele[\"exchange\"]} for ele in instru]"
   ]
  },
  {
   "cell_type": "code",
   "execution_count": 20,
   "metadata": {},
   "outputs": [],
   "source": [
    "kite_df=pd.DataFrame(kite_ls)"
   ]
  },
  {
   "cell_type": "code",
   "execution_count": 21,
   "metadata": {},
   "outputs": [],
   "source": [
    "kite_df.rename(columns={\"tradingsymbol\":\"SYMBOL\",\"instrument_token\":\"KITETOKENID\",\"segment\":\"SEGMENT\",\"exchange\":\"EXCHANGE\"},inplace=True)"
   ]
  },
  {
   "cell_type": "code",
   "execution_count": 22,
   "metadata": {},
   "outputs": [],
   "source": [
    "kite_df=kite_df[[\"SYMBOL\",\"KITETOKENID\",\"SEGMENT\",\"EXCHANGE\"]]"
   ]
  },
  {
   "cell_type": "code",
   "execution_count": 23,
   "metadata": {},
   "outputs": [],
   "source": [
    "kite_df[\"SEGMENT\"]=kite_df[\"SEGMENT\"].replace({\"INDICES\":\"IN\",\"NSE\":\"EQ\"})"
   ]
  },
  {
   "cell_type": "code",
   "execution_count": 24,
   "metadata": {},
   "outputs": [],
   "source": [
    "kite_df.sort_values(by=\"SYMBOL\",inplace=True)"
   ]
  },
  {
   "cell_type": "code",
   "execution_count": 25,
   "metadata": {},
   "outputs": [],
   "source": [
    "kite_df.to_csv(\"../am_files/kite_nse.csv\",index=False)"
   ]
  },
  {
   "cell_type": "markdown",
   "metadata": {},
   "source": [
    "## MERGE"
   ]
  },
  {
   "cell_type": "code",
   "execution_count": 26,
   "metadata": {},
   "outputs": [],
   "source": [
    "neo_cm_eq_df=pd.read_csv(\"../am_files/neo_cm_eq.csv\")\n",
    "neo_cm_in_df=pd.read_csv(\"../am_files/neo_cm_in.csv\")\n",
    "kite_df=pd.read_csv(\"../am_files/kite_nse.csv\")"
   ]
  },
  {
   "cell_type": "code",
   "execution_count": 27,
   "metadata": {},
   "outputs": [],
   "source": [
    "mg_eq_df=kite_df.merge(neo_cm_eq_df)\n",
    "mg_in_df=kite_df.merge(neo_cm_in_df)"
   ]
  },
  {
   "cell_type": "code",
   "execution_count": 28,
   "metadata": {},
   "outputs": [],
   "source": [
    "mg_eq_df=mg_eq_df[[\"PTRDSYMBOL\",\"SYMBOLDESC\",\"KITETOKENID\",\"SEGMENT\",\"EXCHANGE\",\"NEOTOKENID\"]]\n",
    "mg_in_df=mg_in_df[[\"PTRDSYMBOL\",\"SYMBOLDESC\",\"KITETOKENID\",\"SEGMENT\",\"EXCHANGE\",\"NEOTOKENID\"]]"
   ]
  },
  {
   "cell_type": "code",
   "execution_count": 29,
   "metadata": {},
   "outputs": [],
   "source": [
    "mg_eq_df.rename(columns={\"PTRDSYMBOL\":\"SYMBOL\"},inplace=True)\n",
    "mg_in_df.rename(columns={\"PTRDSYMBOL\":\"SYMBOL\"},inplace=True)"
   ]
  },
  {
   "cell_type": "code",
   "execution_count": 30,
   "metadata": {},
   "outputs": [
    {
     "data": {
      "text/plain": [
       "((4116, 6), (0, 6))"
      ]
     },
     "execution_count": 30,
     "metadata": {},
     "output_type": "execute_result"
    }
   ],
   "source": [
    "mg_eq_df.shape,mg_in_df.shape"
   ]
  },
  {
   "cell_type": "code",
   "execution_count": 31,
   "metadata": {},
   "outputs": [],
   "source": [
    "mg_eq_df.sort_values(by=\"SYMBOLDESC\",inplace=True)\n",
    "mg_in_df.sort_values(by=\"SYMBOLDESC\",inplace=True)"
   ]
  },
  {
   "cell_type": "code",
   "execution_count": 32,
   "metadata": {},
   "outputs": [],
   "source": [
    "mg_eq_df.to_csv(\"../am_files/mg_eq.csv\",index=False)\n",
    "mg_in_df.to_csv(\"../am_files/mg_in.csv\",index=False)"
   ]
  },
  {
   "cell_type": "markdown",
   "metadata": {},
   "source": [
    "## MERGE MANUAL"
   ]
  },
  {
   "cell_type": "code",
   "execution_count": 33,
   "metadata": {},
   "outputs": [],
   "source": [
    "neo_cm_eq_manu_df=pd.read_csv(\"../am_files/neo_cm_eq.csv\")\n",
    "neo_cm_in_manu_df=pd.read_csv(\"../am_files/neo_cm_in.csv\")"
   ]
  },
  {
   "cell_type": "code",
   "execution_count": 34,
   "metadata": {},
   "outputs": [],
   "source": [
    "neo_cm_eq_manu_df.drop(columns=[\"SYMBOL\"],inplace=True)\n",
    "neo_cm_in_manu_df.drop(columns=[\"SYMBOL\"],inplace=True)"
   ]
  },
  {
   "cell_type": "code",
   "execution_count": 35,
   "metadata": {},
   "outputs": [],
   "source": [
    "neo_cm_eq_manu_df.rename(columns={\"PTRDSYMBOL\":\"SYMBOL\"},inplace=True)\n",
    "neo_cm_in_manu_df.rename(columns={\"PTRDSYMBOL\":\"SYMBOL\"},inplace=True)"
   ]
  },
  {
   "cell_type": "code",
   "execution_count": 36,
   "metadata": {},
   "outputs": [],
   "source": [
    "neo_cm_eq_manu_df[\"KITETOKENID\"]=float(\"nan\")\n",
    "neo_cm_in_manu_df[\"KITETOKENID\"]=float(\"nan\")"
   ]
  },
  {
   "cell_type": "code",
   "execution_count": 37,
   "metadata": {},
   "outputs": [],
   "source": [
    "neo_cm_eq_manu_df.to_csv(\"../am_files/mg_eq_manual.csv\",index=False)\n",
    "neo_cm_in_manu_df.to_csv(\"../am_files/mg_in_manual.csv\",index=False)"
   ]
  },
  {
   "cell_type": "code",
   "execution_count": null,
   "metadata": {},
   "outputs": [],
   "source": []
  }
 ],
 "metadata": {
  "kernelspec": {
   "display_name": "alpineV1.2",
   "language": "python",
   "name": "python3"
  },
  "language_info": {
   "codemirror_mode": {
    "name": "ipython",
    "version": 3
   },
   "file_extension": ".py",
   "mimetype": "text/x-python",
   "name": "python",
   "nbconvert_exporter": "python",
   "pygments_lexer": "ipython3",
   "version": "3.12.2"
  }
 },
 "nbformat": 4,
 "nbformat_minor": 2
}
